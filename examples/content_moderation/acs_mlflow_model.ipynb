{
 "cells": [
  {
   "cell_type": "markdown",
   "metadata": {},
   "source": [
    "# Example"
   ]
  },
  {
   "cell_type": "markdown",
   "metadata": {},
   "source": [
    "A simple text generation model:"
   ]
  },
  {
   "cell_type": "code",
   "execution_count": null,
   "metadata": {},
   "outputs": [],
   "source": [
    "import mlflow\n",
    "from transformers import pipeline, AutoTokenizer\n",
    "\n",
    "task = \"text-generation\"\n",
    "architecture = \"gpt2\"\n",
    "\n",
    "sentence_pipeline = pipeline(\n",
    "    task=task, tokenizer=AutoTokenizer.from_pretrained(architecture), model=architecture\n",
    ")\n",
    "\n",
    "# Validate that the overrides function\n",
    "prompts = [\"Generative models are\", \"I'd like a coconut so that I can\"]\n",
    "\n",
    "# validation of config prior to save or log\n",
    "inference_config = {\n",
    "    \"top_k\": 2,\n",
    "    \"num_beams\": 5,\n",
    "    \"max_length\": 30,\n",
    "    \"temperature\": 0.62,\n",
    "    \"top_p\": 0.85,\n",
    "    \"repetition_penalty\": 1.15,\n",
    "}\n",
    "\n",
    "# Verify that no exceptions are thrown\n",
    "sentence_pipeline(prompts, **inference_config)\n",
    "\n",
    "mlflow.transformers.save_model(\n",
    "    transformers_model=sentence_pipeline,\n",
    "    path=\"my_sentence_generator\",\n",
    "    task=task,\n",
    "    inference_config=inference_config,\n",
    ")"
   ]
  },
  {
   "cell_type": "markdown",
   "metadata": {},
   "source": [
    "## Add content moderation"
   ]
  },
  {
   "cell_type": "code",
   "execution_count": null,
   "metadata": {},
   "outputs": [],
   "source": [
    "from mlspells.operationalize import ResourceAccessMode, ValueSourceType, ValueSource\n",
    "from mlspells.operationalize.models.moderation import AzureContentSafetyGuardrailModel, ModerationActionBehavior, ModerationAction"
   ]
  },
  {
   "cell_type": "markdown",
   "metadata": {},
   "source": [
    "Wrap the model with a content safety model:"
   ]
  },
  {
   "cell_type": "code",
   "execution_count": null,
   "metadata": {},
   "outputs": [],
   "source": [
    "moderated = AzureContentSafetyGuardrailModel(\n",
    "    model_uri=\"my_sentence_generator\", \n",
    "    endpoint_uri=\"https://<my-azure-content-safety-endpoint>.cognitiveservices.azure.com/\",\n",
    "    access_mode=ResourceAccessMode.Key, \n",
    "    action=ModerationAction(\n",
    "        ModerationActionBehavior.Drop, \n",
    "        message=\"Content has been blocked by Azure Content Safety.\"\n",
    "    ),\n",
    "    config={\n",
    "        \"key\": ValueSource(source=ValueSourceType.Environment, name=\"ACS_KEY\")\n",
    "    }\n",
    ")"
   ]
  },
  {
   "cell_type": "markdown",
   "metadata": {},
   "source": [
    "Save the new model:"
   ]
  },
  {
   "cell_type": "code",
   "execution_count": null,
   "metadata": {},
   "outputs": [],
   "source": [
    "moderated.save_model(\"moderated_sentence_generator\")"
   ]
  }
 ],
 "metadata": {
  "language_info": {
   "name": "python"
  },
  "orig_nbformat": 4
 },
 "nbformat": 4,
 "nbformat_minor": 2
}
